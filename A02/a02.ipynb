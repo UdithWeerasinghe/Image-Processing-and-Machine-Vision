{
 "cells": [
  {
   "cell_type": "code",
   "execution_count": 5,
   "id": "75f277e3-d9c5-42df-96b3-b22d67c605cb",
   "metadata": {},
   "outputs": [
    {
     "ename": "error",
     "evalue": "OpenCV(4.8.0) D:\\a\\opencv-python\\opencv-python\\opencv\\modules\\imgproc\\src\\color.cpp:182: error: (-215:Assertion failed) !_src.empty() in function 'cv::cvtColor'\n",
     "output_type": "error",
     "traceback": [
      "\u001b[1;31m---------------------------------------------------------------------------\u001b[0m",
      "\u001b[1;31merror\u001b[0m                                     Traceback (most recent call last)",
      "Cell \u001b[1;32mIn[5], line 8\u001b[0m\n\u001b[0;32m      6\u001b[0m \u001b[38;5;66;03m# Load the image\u001b[39;00m\n\u001b[0;32m      7\u001b[0m image \u001b[38;5;241m=\u001b[39m cv\u001b[38;5;241m.\u001b[39mimread(\u001b[38;5;124m'\u001b[39m\u001b[38;5;124m../images/the_berry_farms_sunflower_field.jpeg\u001b[39m\u001b[38;5;124m'\u001b[39m, cv\u001b[38;5;241m.\u001b[39mIMREAD_REDUCED_COLOR_4)\n\u001b[1;32m----> 8\u001b[0m gray_image \u001b[38;5;241m=\u001b[39m \u001b[43mcv\u001b[49m\u001b[38;5;241;43m.\u001b[39;49m\u001b[43mcvtColor\u001b[49m\u001b[43m(\u001b[49m\u001b[43mimage\u001b[49m\u001b[43m,\u001b[49m\u001b[43m \u001b[49m\u001b[43mcv\u001b[49m\u001b[38;5;241;43m.\u001b[39;49m\u001b[43mCOLOR_BGR2GRAY\u001b[49m\u001b[43m)\u001b[49m\n\u001b[0;32m      9\u001b[0m \u001b[38;5;28;01massert\u001b[39;00m gray_image \u001b[38;5;129;01mis\u001b[39;00m \u001b[38;5;129;01mnot\u001b[39;00m \u001b[38;5;28;01mNone\u001b[39;00m, \u001b[38;5;124m'\u001b[39m\u001b[38;5;124mERROR!!! Image not found\u001b[39m\u001b[38;5;124m'\u001b[39m\n\u001b[0;32m     11\u001b[0m \u001b[38;5;66;03m# Define a function to create a Gaussian kernel\u001b[39;00m\n",
      "\u001b[1;31merror\u001b[0m: OpenCV(4.8.0) D:\\a\\opencv-python\\opencv-python\\opencv\\modules\\imgproc\\src\\color.cpp:182: error: (-215:Assertion failed) !_src.empty() in function 'cv::cvtColor'\n"
     ]
    }
   ],
   "source": [
    "#Import necessary libraries\n",
    "import numpy as np\n",
    "import matplotlib.pyplot as plt\n",
    "import cv2 as cv  \n",
    "\n",
    "# Load the image\n",
    "image = cv.imread('../images/the_berry_farms_sunflower_field.jpeg', cv.IMREAD_REDUCED_COLOR_4)\n",
    "gray_image = cv.cvtColor(image, cv.COLOR_BGR2GRAY)\n",
    "assert gray_image is not None, 'ERROR!!! Image not found'\n",
    "\n",
    "# Define a function to create a Gaussian kernel\n",
    "def GaussianKernal(size, sigma, show_plot=False):\n",
    "    oneDKernal = np.linspace(-(size // 2), size // 2, size)\n",
    "    oneDKernal = np.exp(-(oneDKernal**2) / (2 * sigma**2)) / (sigma * np.sqrt(2 * np.pi))\n",
    "    twoDKernal = np.outer(oneDKernal.T, oneDKernal.T)\n",
    "    twoDKernal *= 1.0 / twoDKernal.max()\n",
    "\n",
    "    if show_plot:\n",
    "        plt.imshow(twoDKernal, interpolation='none', cmap='gray')\n",
    "        plt.title(\"Gaussian Kernel\")\n",
    "        plt.show()\n",
    "\n",
    "    return twoDKernal\n",
    "\n",
    "sigma_value = 0.64\n",
    "\n",
    "# Create a Gaussian kernel\n",
    "gaussian_filter = GaussianKernal(5, sigma_value, show_plot=False)\n",
    "L_GKernal = cv.Laplacian(gaussian_filter, cv.CV_64F) * sigma_value**2           # Get the Laplacian of the Gaussian kernel\n",
    "L_Gimage = cv.filter2D(gray_image, -1, L_GKernal)                               # Applying Laplacian of Gaussian kernel to the image\n",
    "Threshold = 81                                                                  # Setting a Thresholdi(Adjustable)\n",
    "_, binary_image = cv.threshold(np.abs(L_Gimage), Threshold, 255, cv.THRESH_BINARY)\n",
    "\n",
    "# Get Contours\n",
    "contours, _ = cv.findContours(binary_image.astype(np.uint8), cv.RETR_EXTERNAL, cv.CHAIN_APPROX_SIMPLE)\n",
    "\n",
    "for i in contours:                                                        # Mark Circles in the original image\n",
    "    ((x, y), Radius) = cv.minEnclosingCircle(i)                           # Getting the center and radius of the blob\n",
    "    center_coordinates = (int(x), int(y))\n",
    "    Radius = int(Radius)\n",
    "    cv.circle(image, center_coordinates, Radius, (255, 0, 255), 2)        # magenta coloured circles with 2 thickness\n",
    "\n",
    "image_rgb = cv.cvtColor(image, cv.COLOR_BGR2RGB)                          # Convert BGR image to RGB for Matplotlib display\n",
    "\n",
    "# Display Results\n",
    "plt.figure(figsize=(15, 10))\n",
    "plt.subplot(1, 3, 1)\n",
    "plt.imshow(L_Gimage, interpolation='none', cmap='gray')\n",
    "plt.title(\"Laplacian of Gaussian\")\n",
    "plt.subplot(1, 3, 2)\n",
    "plt.imshow(binary_image, interpolation='none', cmap='gray')\n",
    "plt.title(\"Binary Image\")\n",
    "plt.subplot(1, 3, 3)\n",
    "plt.imshow(image_rgb, interpolation='none')                               # No cmap needed for RGB\n",
    "plt.title(\"Original Image with Blobs\")\n",
    "plt.show()\n",
    "\n",
    "print(\"Detected Number of Blobs: {}\".format(len(contours)))"
   ]
  },
  {
   "cell_type": "code",
   "execution_count": null,
   "id": "be3989db-f2d1-482c-a846-844ceeffa998",
   "metadata": {},
   "outputs": [],
   "source": []
  }
 ],
 "metadata": {
  "kernelspec": {
   "display_name": "Python 3 (ipykernel)",
   "language": "python",
   "name": "python3"
  },
  "language_info": {
   "codemirror_mode": {
    "name": "ipython",
    "version": 3
   },
   "file_extension": ".py",
   "mimetype": "text/x-python",
   "name": "python",
   "nbconvert_exporter": "python",
   "pygments_lexer": "ipython3",
   "version": "3.11.5"
  }
 },
 "nbformat": 4,
 "nbformat_minor": 5
}
